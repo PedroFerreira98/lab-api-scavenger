{
 "cells": [
  {
   "cell_type": "code",
   "execution_count": 12,
   "metadata": {},
   "outputs": [
    {
     "data": {
      "text/plain": [
       "{'Jupyter Notebook', None}"
      ]
     },
     "execution_count": 12,
     "metadata": {},
     "output_type": "execute_result"
    }
   ],
   "source": [
    "import pandas as pd\n",
    "import requests\n",
    "\n",
    "#curl -H \"Accept: application/vnd.github.v3+json\" https://api.github.com/repos/ironhack-datalabs/bcn-feb-2019/forks?per_page=100 > challenge1.json\n",
    "\n",
    "chal = pd.read_json('challenge1.json')\n",
    "\n",
    "languages = chal['language']\n",
    "\n",
    "languages = set(languages)\n",
    "languages"
   ]
  },
  {
   "cell_type": "code",
   "execution_count": 24,
   "metadata": {},
   "outputs": [
    {
     "data": {
      "text/plain": [
       "{'Jupyter Notebook', None}"
      ]
     },
     "execution_count": 24,
     "metadata": {},
     "output_type": "execute_result"
    }
   ],
   "source": [
    "cha = requests.get(\"https://api.github.com/repos/ironhack-datalabs/bcn-feb-2019/forks?per_page=100\")\n",
    "\n",
    "data = pd.DataFrame(cha.json())\n",
    "langua = set(data['language'])\n",
    "langua\n",
    "\n"
   ]
  },
  {
   "cell_type": "code",
   "execution_count": 26,
   "metadata": {},
   "outputs": [
    {
     "data": {
      "text/plain": [
       "0"
      ]
     },
     "execution_count": 26,
     "metadata": {},
     "output_type": "execute_result"
    }
   ],
   "source": [
    "cha2 = requests.get('https://api.github.com/repos/ta-data-lis/lab-mysql-first-queries/commits?since=2020-12-25T00:00:00Z?until=2021-01-08T00:00:00Z')\n",
    "data2 = pd.DataFrame(cha2.json())\n",
    "data2\n",
    "\n",
    "count = len(data2)\n",
    "count"
   ]
  },
  {
   "cell_type": "code",
   "execution_count": null,
   "metadata": {},
   "outputs": [],
   "source": []
  }
 ],
 "metadata": {
  "kernelspec": {
   "display_name": "Python 3",
   "language": "python",
   "name": "python3"
  },
  "language_info": {
   "codemirror_mode": {
    "name": "ipython",
    "version": 3
   },
   "file_extension": ".py",
   "mimetype": "text/x-python",
   "name": "python",
   "nbconvert_exporter": "python",
   "pygments_lexer": "ipython3",
   "version": "3.8.3"
  }
 },
 "nbformat": 4,
 "nbformat_minor": 4
}
